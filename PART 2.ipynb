{
 "cells": [
  {
   "cell_type": "markdown",
   "id": "511af710",
   "metadata": {},
   "source": [
    "# Excercise 2"
   ]
  },
  {
   "cell_type": "markdown",
   "id": "bc8d2015",
   "metadata": {},
   "source": [
    "Extract triples of (subject, verb, object) from a given sentence. Perhaps try dependency based parser to extract dependency relations and then reason with those to extract triples."
   ]
  },
  {
   "cell_type": "code",
   "execution_count": 1,
   "id": "25fc11e2",
   "metadata": {},
   "outputs": [],
   "source": [
    "#import and use spacy modal\n",
    "import spacy\n",
    "\n",
    "nlp = spacy.load(\"en_core_web_sm\")"
   ]
  },
  {
   "cell_type": "code",
   "execution_count": 2,
   "id": "c4921610",
   "metadata": {},
   "outputs": [],
   "source": [
    "# extract triples from a sentence\n",
    "def extract_triples(sentence):\n",
    "    doc = nlp(sentence)\n",
    "    \n",
    "    triples = []\n",
    "    \n",
    "    for token in doc:\n",
    "        if \"VERB\" in token.pos_:\n",
    "            subject = \"\"\n",
    "            verb = token.text\n",
    "            object = \"\"\n",
    "            \n",
    "           \n",
    "            for child in token.children:\n",
    "                if \"subj\" in child.dep_:\n",
    "                    subject = child.text\n",
    "                elif \"obj\" in child.dep_:\n",
    "                    object = child.text\n",
    "            \n",
    "            if subject and object:\n",
    "                triples.append((subject, verb, object))\n",
    "    \n",
    "    return triples"
   ]
  },
  {
   "cell_type": "code",
   "execution_count": 3,
   "id": "35a9f2a4",
   "metadata": {},
   "outputs": [],
   "source": [
    "#sentence\n",
    "sentence = \"John eats an apple.\""
   ]
  },
  {
   "cell_type": "code",
   "execution_count": 4,
   "id": "07b3076d",
   "metadata": {},
   "outputs": [],
   "source": [
    "triples = extract_triples(sentence)"
   ]
  },
  {
   "cell_type": "code",
   "execution_count": 5,
   "id": "080e4d7e",
   "metadata": {},
   "outputs": [
    {
     "name": "stdout",
     "output_type": "stream",
     "text": [
      "('John', 'eats', 'apple')\n"
     ]
    }
   ],
   "source": [
    "# Print extracted triples\n",
    "for triple in triples:\n",
    "    print(triple)"
   ]
  }
 ],
 "metadata": {
  "kernelspec": {
   "display_name": "Python 3 (ipykernel)",
   "language": "python",
   "name": "python3"
  },
  "language_info": {
   "codemirror_mode": {
    "name": "ipython",
    "version": 3
   },
   "file_extension": ".py",
   "mimetype": "text/x-python",
   "name": "python",
   "nbconvert_exporter": "python",
   "pygments_lexer": "ipython3",
   "version": "3.10.5"
  }
 },
 "nbformat": 4,
 "nbformat_minor": 5
}
