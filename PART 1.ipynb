{
 "cells": [
  {
   "cell_type": "markdown",
   "id": "971782ce",
   "metadata": {},
   "source": [
    "# Excercise 1"
   ]
  },
  {
   "cell_type": "markdown",
   "id": "dfed80c3",
   "metadata": {},
   "source": [
    "Find the similarity between two sentences or paragraphs. This assignment will help you to become familiar with NLP functionalities such as tokenization, stemming, and word embeddings. Apply both bag-of-words and word-embedding approaches."
   ]
  },
  {
   "cell_type": "markdown",
   "id": "26e21497",
   "metadata": {},
   "source": [
    "# Bag of Words"
   ]
  },
  {
   "cell_type": "code",
   "execution_count": 1,
   "id": "1eba79e9",
   "metadata": {},
   "outputs": [],
   "source": [
    "import pandas as pd\n",
    "import numpy as np\n",
    "import collections\n",
    "import re"
   ]
  },
  {
   "cell_type": "code",
   "execution_count": 2,
   "id": "d0ff130b",
   "metadata": {},
   "outputs": [],
   "source": [
    "# Defines two sentences\n",
    "paragraph1 = \"This is the first paragraph. It talks about natural language processing.\"\n",
    "paragraph2 = \"The second paragraph is about text analysis and machine learning.\""
   ]
  },
  {
   "cell_type": "code",
   "execution_count": 3,
   "id": "d6fe723c",
   "metadata": {},
   "outputs": [],
   "source": [
    "# preprocess the paragraphs\n",
    "def preprocess_paragraph(paragraph):\n",
    "    words = re.sub(r\"[^a-zA-Z0-9]\", \" \", paragraph.lower()).split()\n",
    "    return words"
   ]
  },
  {
   "cell_type": "code",
   "execution_count": 4,
   "id": "1370f75a",
   "metadata": {},
   "outputs": [],
   "source": [
    "para1 = preprocess_paragraph(paragraph1)\n",
    "para2 = preprocess_paragraph(paragraph2)"
   ]
  },
  {
   "cell_type": "code",
   "execution_count": 5,
   "id": "bf7ec752",
   "metadata": {},
   "outputs": [],
   "source": [
    "# set of unique words from both paragraphs\n",
    "wordset = set(para1 + para2)"
   ]
  },
  {
   "cell_type": "code",
   "execution_count": 6,
   "id": "a3faa43e",
   "metadata": {},
   "outputs": [],
   "source": [
    "def calculateBOW(wordset, l_doc):\n",
    "    tf_diz = dict.fromkeys(wordset, 0)\n",
    "    for word in l_doc:\n",
    "        tf_diz[word] = l_doc.count(word)\n",
    "    return tf_diz"
   ]
  },
  {
   "cell_type": "code",
   "execution_count": 7,
   "id": "d15ecd14",
   "metadata": {},
   "outputs": [],
   "source": [
    "# Calculate BOW for both paragraphs\n",
    "bow1 = calculateBOW(wordset, para1)\n",
    "bow2 = calculateBOW(wordset, para2)"
   ]
  },
  {
   "cell_type": "code",
   "execution_count": 8,
   "id": "deff6ee1",
   "metadata": {},
   "outputs": [
    {
     "data": {
      "text/html": [
       "<div>\n",
       "<style scoped>\n",
       "    .dataframe tbody tr th:only-of-type {\n",
       "        vertical-align: middle;\n",
       "    }\n",
       "\n",
       "    .dataframe tbody tr th {\n",
       "        vertical-align: top;\n",
       "    }\n",
       "\n",
       "    .dataframe thead th {\n",
       "        text-align: right;\n",
       "    }\n",
       "</style>\n",
       "<table border=\"1\" class=\"dataframe\">\n",
       "  <thead>\n",
       "    <tr style=\"text-align: right;\">\n",
       "      <th></th>\n",
       "      <th>this</th>\n",
       "      <th>text</th>\n",
       "      <th>talks</th>\n",
       "      <th>about</th>\n",
       "      <th>language</th>\n",
       "      <th>second</th>\n",
       "      <th>machine</th>\n",
       "      <th>learning</th>\n",
       "      <th>is</th>\n",
       "      <th>first</th>\n",
       "      <th>natural</th>\n",
       "      <th>analysis</th>\n",
       "      <th>the</th>\n",
       "      <th>it</th>\n",
       "      <th>processing</th>\n",
       "      <th>paragraph</th>\n",
       "      <th>and</th>\n",
       "    </tr>\n",
       "  </thead>\n",
       "  <tbody>\n",
       "    <tr>\n",
       "      <th>0</th>\n",
       "      <td>1</td>\n",
       "      <td>0</td>\n",
       "      <td>1</td>\n",
       "      <td>1</td>\n",
       "      <td>1</td>\n",
       "      <td>0</td>\n",
       "      <td>0</td>\n",
       "      <td>0</td>\n",
       "      <td>1</td>\n",
       "      <td>1</td>\n",
       "      <td>1</td>\n",
       "      <td>0</td>\n",
       "      <td>1</td>\n",
       "      <td>1</td>\n",
       "      <td>1</td>\n",
       "      <td>1</td>\n",
       "      <td>0</td>\n",
       "    </tr>\n",
       "    <tr>\n",
       "      <th>1</th>\n",
       "      <td>0</td>\n",
       "      <td>1</td>\n",
       "      <td>0</td>\n",
       "      <td>1</td>\n",
       "      <td>0</td>\n",
       "      <td>1</td>\n",
       "      <td>1</td>\n",
       "      <td>1</td>\n",
       "      <td>1</td>\n",
       "      <td>0</td>\n",
       "      <td>0</td>\n",
       "      <td>1</td>\n",
       "      <td>1</td>\n",
       "      <td>0</td>\n",
       "      <td>0</td>\n",
       "      <td>1</td>\n",
       "      <td>1</td>\n",
       "    </tr>\n",
       "  </tbody>\n",
       "</table>\n",
       "</div>"
      ],
      "text/plain": [
       "   this  text  talks  about  language  second  machine  learning  is  first  \\\n",
       "0     1     0      1      1         1       0        0         0   1      1   \n",
       "1     0     1      0      1         0       1        1         1   1      0   \n",
       "\n",
       "   natural  analysis  the  it  processing  paragraph  and  \n",
       "0        1         0    1   1           1          1    0  \n",
       "1        0         1    1   0           0          1    1  "
      ]
     },
     "execution_count": 8,
     "metadata": {},
     "output_type": "execute_result"
    }
   ],
   "source": [
    "# Create a DataFrame \n",
    "df_bow = pd.DataFrame([bow1, bow2])\n",
    "df_bow.head()"
   ]
  },
  {
   "cell_type": "code",
   "execution_count": 9,
   "id": "2144fbf0",
   "metadata": {},
   "outputs": [
    {
     "name": "stderr",
     "output_type": "stream",
     "text": [
      "C:\\Users\\parjita\\AppData\\Local\\Programs\\Python\\Python310\\lib\\site-packages\\sklearn\\utils\\deprecation.py:87: FutureWarning: Function get_feature_names is deprecated; get_feature_names is deprecated in 1.0 and will be removed in 1.2. Please use get_feature_names_out instead.\n",
      "  warnings.warn(msg, category=FutureWarning)\n"
     ]
    },
    {
     "data": {
      "text/html": [
       "<div>\n",
       "<style scoped>\n",
       "    .dataframe tbody tr th:only-of-type {\n",
       "        vertical-align: middle;\n",
       "    }\n",
       "\n",
       "    .dataframe tbody tr th {\n",
       "        vertical-align: top;\n",
       "    }\n",
       "\n",
       "    .dataframe thead th {\n",
       "        text-align: right;\n",
       "    }\n",
       "</style>\n",
       "<table border=\"1\" class=\"dataframe\">\n",
       "  <thead>\n",
       "    <tr style=\"text-align: right;\">\n",
       "      <th></th>\n",
       "      <th>about</th>\n",
       "      <th>analysis</th>\n",
       "      <th>and</th>\n",
       "      <th>first</th>\n",
       "      <th>is</th>\n",
       "      <th>it</th>\n",
       "      <th>language</th>\n",
       "      <th>learning</th>\n",
       "      <th>machine</th>\n",
       "      <th>natural</th>\n",
       "      <th>paragraph</th>\n",
       "      <th>processing</th>\n",
       "      <th>second</th>\n",
       "      <th>talks</th>\n",
       "      <th>text</th>\n",
       "      <th>the</th>\n",
       "      <th>this</th>\n",
       "    </tr>\n",
       "  </thead>\n",
       "  <tbody>\n",
       "    <tr>\n",
       "      <th>0</th>\n",
       "      <td>1</td>\n",
       "      <td>0</td>\n",
       "      <td>0</td>\n",
       "      <td>1</td>\n",
       "      <td>1</td>\n",
       "      <td>1</td>\n",
       "      <td>1</td>\n",
       "      <td>0</td>\n",
       "      <td>0</td>\n",
       "      <td>1</td>\n",
       "      <td>1</td>\n",
       "      <td>1</td>\n",
       "      <td>0</td>\n",
       "      <td>1</td>\n",
       "      <td>0</td>\n",
       "      <td>1</td>\n",
       "      <td>1</td>\n",
       "    </tr>\n",
       "    <tr>\n",
       "      <th>1</th>\n",
       "      <td>1</td>\n",
       "      <td>1</td>\n",
       "      <td>1</td>\n",
       "      <td>0</td>\n",
       "      <td>1</td>\n",
       "      <td>0</td>\n",
       "      <td>0</td>\n",
       "      <td>1</td>\n",
       "      <td>1</td>\n",
       "      <td>0</td>\n",
       "      <td>1</td>\n",
       "      <td>0</td>\n",
       "      <td>1</td>\n",
       "      <td>0</td>\n",
       "      <td>1</td>\n",
       "      <td>1</td>\n",
       "      <td>0</td>\n",
       "    </tr>\n",
       "  </tbody>\n",
       "</table>\n",
       "</div>"
      ],
      "text/plain": [
       "   about  analysis  and  first  is  it  language  learning  machine  natural  \\\n",
       "0      1         0    0      1   1   1         1         0        0        1   \n",
       "1      1         1    1      0   1   0         0         1        1        0   \n",
       "\n",
       "   paragraph  processing  second  talks  text  the  this  \n",
       "0          1           1       0      1     0    1     1  \n",
       "1          1           0       1      0     1    1     0  "
      ]
     },
     "execution_count": 9,
     "metadata": {},
     "output_type": "execute_result"
    }
   ],
   "source": [
    "#apply countvectorizer method\n",
    "from sklearn.feature_extraction.text import CountVectorizer\n",
    "vectorizer = CountVectorizer()\n",
    "\n",
    "X = vectorizer.fit_transform([paragraph1,paragraph2])\n",
    "df_bow_sklearn = pd.DataFrame(X.toarray(),columns=vectorizer.get_feature_names())\n",
    "df_bow_sklearn.head()"
   ]
  },
  {
   "cell_type": "code",
   "execution_count": 10,
   "id": "b537cc78",
   "metadata": {},
   "outputs": [
    {
     "name": "stdout",
     "output_type": "stream",
     "text": [
      "Cosine Similarity between paragraph1 and paragraph2: 0.38138503569823695\n"
     ]
    }
   ],
   "source": [
    "from sklearn.metrics.pairwise import cosine_similarity\n",
    "\n",
    "# Calculate cosine similarity\n",
    "cosine_sim = cosine_similarity(df_bow)\n",
    "similarity_score = cosine_sim[0, 1]\n",
    "\n",
    "print(\"Cosine Similarity between paragraph1 and paragraph2:\", similarity_score)\n"
   ]
  },
  {
   "cell_type": "markdown",
   "id": "c41d25cd",
   "metadata": {},
   "source": [
    "# Word Embedding"
   ]
  },
  {
   "cell_type": "code",
   "execution_count": 11,
   "id": "9d745a32",
   "metadata": {},
   "outputs": [],
   "source": [
    "from gensim.models import Word2Vec"
   ]
  },
  {
   "cell_type": "code",
   "execution_count": 12,
   "id": "ae0022b6",
   "metadata": {},
   "outputs": [],
   "source": [
    "sentences = [para1, para2] "
   ]
  },
  {
   "cell_type": "code",
   "execution_count": 13,
   "id": "d34bebc2",
   "metadata": {},
   "outputs": [],
   "source": [
    "model = Word2Vec(sentences, vector_size=100, window=5, min_count=1, sg=0)"
   ]
  },
  {
   "cell_type": "code",
   "execution_count": 14,
   "id": "ca5c876f",
   "metadata": {},
   "outputs": [
    {
     "name": "stdout",
     "output_type": "stream",
     "text": [
      "Similarity between 'natural' and 'language': 0.02680681\n"
     ]
    }
   ],
   "source": [
    "# Check the similarity between two words\n",
    "similarity_score = model.wv.similarity('natural', 'language')\n",
    "print(\"Similarity between 'natural' and 'language':\", similarity_score)"
   ]
  }
 ],
 "metadata": {
  "kernelspec": {
   "display_name": "Python 3 (ipykernel)",
   "language": "python",
   "name": "python3"
  },
  "language_info": {
   "codemirror_mode": {
    "name": "ipython",
    "version": 3
   },
   "file_extension": ".py",
   "mimetype": "text/x-python",
   "name": "python",
   "nbconvert_exporter": "python",
   "pygments_lexer": "ipython3",
   "version": "3.10.5"
  }
 },
 "nbformat": 4,
 "nbformat_minor": 5
}
